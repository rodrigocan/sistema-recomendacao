{
 "cells": [
  {
   "cell_type": "markdown",
   "metadata": {},
   "source": [
    "# Importação das bibliotecas e do dataset"
   ]
  },
  {
   "cell_type": "code",
   "execution_count": 1,
   "metadata": {},
   "outputs": [
    {
     "name": "stderr",
     "output_type": "stream",
     "text": [
      "[nltk_data] Downloading package stopwords to\n",
      "[nltk_data]     C:\\Users\\TRT05\\AppData\\Roaming\\nltk_data...\n",
      "[nltk_data]   Package stopwords is already up-to-date!\n"
     ]
    }
   ],
   "source": [
    "import pandas as pd\n",
    "import numpy as np\n",
    "import nltk\n",
    "nltk.download('stopwords')\n",
    "from nltk.corpus import stopwords\n",
    "from sklearn.metrics.pairwise import linear_kernel\n",
    "from sklearn.feature_extraction.text import CountVectorizer\n",
    "from sklearn.feature_extraction.text import TfidfVectorizer\n",
    "from nltk.tokenize import RegexpTokenizer\n",
    "import re\n",
    "import string\n",
    "import random\n",
    "from PIL import Image\n",
    "import requests\n",
    "from io import BytesIO\n",
    "import matplotlib.pyplot as plt\n",
    "%matplotlib inline\n",
    "from sklearn.metrics.pairwise import cosine_similarity\n",
    "from gensim.models import Word2Vec\n",
    "from gensim.models.phrases import Phrases, Phraser\n",
    "from matplotlib import pyplot\n",
    "from gensim.models import KeyedVectors"
   ]
  },
  {
   "cell_type": "markdown",
   "metadata": {},
   "source": [
    "# Carregando embedding da USP"
   ]
  },
  {
   "cell_type": "code",
   "execution_count": 2,
   "metadata": {},
   "outputs": [],
   "source": [
    "usp_word2vec = KeyedVectors.load_word2vec_format('cbow_s100.txt')"
   ]
  },
  {
   "cell_type": "code",
   "execution_count": 3,
   "metadata": {},
   "outputs": [
    {
     "name": "stdout",
     "output_type": "stream",
     "text": [
      "100\n"
     ]
    }
   ],
   "source": [
    "print(len(usp_word2vec['pescoço']))"
   ]
  },
  {
   "cell_type": "markdown",
   "metadata": {},
   "source": [
    "# Aplicações"
   ]
  },
  {
   "cell_type": "code",
   "execution_count": 4,
   "metadata": {},
   "outputs": [
    {
     "name": "stdout",
     "output_type": "stream",
     "text": [
      "[ 3.58052e-01 -2.33786e-01 -2.08213e-01 -5.26642e-01  3.37073e-01\n",
      "  2.78175e-01  4.57310e-02 -9.48120e-02  1.61410e-01 -3.39540e-02\n",
      " -9.34600e-03 -1.77987e-01 -4.97860e-01 -2.77990e-02  1.30160e-02\n",
      "  9.09000e-04 -1.83411e-01  1.71000e-04  2.08070e-02  1.46358e-01\n",
      "  2.08362e-01  2.83546e-01 -2.48896e-01  3.97750e-01 -9.65050e-02\n",
      "  8.90710e-02  1.42334e-01 -8.21470e-02  1.88183e-01  1.94576e-01\n",
      "  1.80388e-01 -2.16986e-01  6.78420e-02  1.38773e-01  2.81078e-01\n",
      "  2.83760e-02  3.40319e-01 -1.50252e-01  1.02771e-01  5.24210e-02\n",
      " -1.89300e-03  1.61379e-01  1.30034e-01 -1.82657e-01  1.50900e-01\n",
      " -1.31224e-01 -1.02074e-01 -2.51900e-03 -1.40393e-01 -1.37729e-01\n",
      " -5.61260e-02 -3.66584e-01 -5.09300e-03 -2.44375e-01 -1.96195e-01\n",
      " -3.53230e-02  3.91601e-01 -8.46560e-02  3.98038e-01 -2.97209e-01\n",
      " -1.50558e-01  7.86980e-02  2.06097e-01 -1.35907e-01  3.12400e-02\n",
      "  3.78501e-01  3.04121e-01 -1.01285e-01  8.54210e-02 -1.97107e-01\n",
      " -4.00851e-01 -3.65820e-02 -1.63780e-01 -3.82440e-02 -3.63000e-02\n",
      " -2.56132e-01 -3.07970e-01  3.84940e-02 -5.48153e-01 -2.61620e-01\n",
      "  1.28331e-01 -2.05795e-01  1.33108e-01  2.75459e-01  2.49456e-01\n",
      " -7.57200e-03  2.11332e-01 -2.42085e-01  1.08041e-01 -4.25196e-01\n",
      " -1.05471e-01  7.24800e-02 -1.13930e-02  1.94090e-01  1.25142e-01\n",
      "  3.00813e-01  1.06750e-01  8.64770e-02  3.39819e-01 -9.52790e-02]\n"
     ]
    }
   ],
   "source": [
    "print(usp_word2vec['homem'])"
   ]
  },
  {
   "cell_type": "code",
   "execution_count": 5,
   "metadata": {},
   "outputs": [],
   "source": [
    "def dist_euclidiana(u, v):\n",
    "  return np.linalg.norm(u - v)"
   ]
  },
  {
   "cell_type": "code",
   "execution_count": 6,
   "metadata": {},
   "outputs": [
    {
     "name": "stdout",
     "output_type": "stream",
     "text": [
      "0.8654262\n",
      "1.3192099\n",
      "2.7291093\n",
      "2.6769214\n"
     ]
    }
   ],
   "source": [
    "homem = usp_word2vec['homem']\n",
    "rapaz = usp_word2vec['rapaz']\n",
    "menino = usp_word2vec['menino']\n",
    "mulher = usp_word2vec['mulher']\n",
    "menina = usp_word2vec['menina']\n",
    "\n",
    "print(dist_euclidiana(homem, rapaz))\n",
    "print(dist_euclidiana(homem, menino))\n",
    "print(dist_euclidiana(homem, mulher))\n",
    "print(dist_euclidiana(homem, menina))"
   ]
  },
  {
   "cell_type": "code",
   "execution_count": 7,
   "metadata": {},
   "outputs": [],
   "source": [
    "def similaridade_cossenos(u, v):\n",
    "  return np.dot(u, v) / (np.linalg.norm(u) * np.linalg.norm(v))"
   ]
  },
  {
   "cell_type": "code",
   "execution_count": 8,
   "metadata": {},
   "outputs": [
    {
     "name": "stdout",
     "output_type": "stream",
     "text": [
      "0.9280618\n",
      "0.8123638\n",
      "0.22989851\n",
      "0.28614414\n"
     ]
    }
   ],
   "source": [
    "print(similaridade_cossenos(homem, rapaz))\n",
    "print(similaridade_cossenos(homem, menino))\n",
    "print(similaridade_cossenos(homem, mulher))\n",
    "print(similaridade_cossenos(homem, menina))"
   ]
  },
  {
   "cell_type": "code",
   "execution_count": 9,
   "metadata": {},
   "outputs": [],
   "source": [
    "def analogia(x1, x2, y1):\n",
    "  y2 = usp_word2vec.most_similar(positive = [y1, x2], negative = [x1])\n",
    "  return y2"
   ]
  },
  {
   "cell_type": "code",
   "execution_count": 10,
   "metadata": {},
   "outputs": [
    {
     "data": {
      "text/plain": [
       "[('filha', 0.8104748129844666),\n",
       " ('sobrinha', 0.7517995834350586),\n",
       " ('esposa', 0.7465153336524963),\n",
       " ('irmã', 0.7406715750694275),\n",
       " ('neta', 0.732083261013031),\n",
       " ('namorada', 0.7275243401527405),\n",
       " ('mulher', 0.7230202555656433),\n",
       " ('enteada', 0.7192704677581787),\n",
       " ('meia-irmã', 0.7150097489356995),\n",
       " ('governanta', 0.7126821875572205)]"
      ]
     },
     "execution_count": 10,
     "metadata": {},
     "output_type": "execute_result"
    }
   ],
   "source": [
    "filho = usp_word2vec['filho']\n",
    "\n",
    "analogia(homem, mulher, filho)"
   ]
  },
  {
   "cell_type": "code",
   "execution_count": 11,
   "metadata": {},
   "outputs": [
    {
     "data": {
      "text/plain": [
       "[('cadela', 0.8309482932090759),\n",
       " ('cachorrinha', 0.7623376250267029),\n",
       " ('bruxa', 0.7476592659950256),\n",
       " ('mulher', 0.7465581297874451),\n",
       " ('girafa', 0.7449819445610046),\n",
       " ('rapariga', 0.7252045273780823),\n",
       " ('mula', 0.7197816371917725),\n",
       " ('égua', 0.7185747623443604),\n",
       " ('criatura', 0.7105768918991089),\n",
       " ('porquinha', 0.7102939486503601)]"
      ]
     },
     "execution_count": 11,
     "metadata": {},
     "output_type": "execute_result"
    }
   ],
   "source": [
    "cachorro = usp_word2vec['cachorro']\n",
    "cadela = usp_word2vec['cadela']\n",
    "gato = usp_word2vec['gato']\n",
    "\n",
    "analogia(cachorro, cadela, gato)"
   ]
  },
  {
   "cell_type": "code",
   "execution_count": 12,
   "metadata": {},
   "outputs": [
    {
     "data": {
      "text/plain": [
       "[('enfermeira', 0.7371505498886108),\n",
       " ('mulher', 0.6708241105079651),\n",
       " ('funcionária', 0.6609692573547363),\n",
       " ('psicóloga', 0.6459536552429199),\n",
       " ('videmanette', 0.6337722539901733),\n",
       " ('ecografia', 0.6319240927696228),\n",
       " ('bibliotecária', 0.6272015571594238),\n",
       " ('prostituta', 0.6178702712059021),\n",
       " ('aluna', 0.615606963634491),\n",
       " ('creche', 0.6106577515602112)]"
      ]
     },
     "execution_count": 12,
     "metadata": {},
     "output_type": "execute_result"
    }
   ],
   "source": [
    "medico = usp_word2vec['médico']\n",
    "\n",
    "analogia(homem, medico, mulher)"
   ]
  },
  {
   "cell_type": "code",
   "execution_count": 13,
   "metadata": {},
   "outputs": [
    {
     "data": {
      "text/plain": [
       "[('detento', 0.5940698981285095),\n",
       " ('reploíde', 0.5839069485664368),\n",
       " ('anti-depressivo', 0.5656048059463501),\n",
       " ('não-acordo', 0.5616338849067688),\n",
       " ('homem', 0.5586972832679749),\n",
       " ('texto.a', 0.5491770505905151),\n",
       " ('taxista', 0.545571506023407),\n",
       " ('lenã§ol', 0.5454291701316833),\n",
       " ('serviçode', 0.5445601344108582),\n",
       " ('tamponando', 0.5398924946784973)]"
      ]
     },
     "execution_count": 13,
     "metadata": {},
     "output_type": "execute_result"
    }
   ],
   "source": [
    "medica = usp_word2vec['médica']\n",
    "\n",
    "analogia(mulher, medica, homem)"
   ]
  },
  {
   "cell_type": "code",
   "execution_count": 14,
   "metadata": {},
   "outputs": [
    {
     "data": {
      "text/plain": [
       "[('máquina', 0.6583220958709717),\n",
       " ('ex-namorada', 0.6497247815132141),\n",
       " ('mulher', 0.6463732719421387),\n",
       " ('mergulhadora', 0.6403951644897461),\n",
       " ('sugestã£o', 0.6394364833831787),\n",
       " ('parceira', 0.6380342841148376),\n",
       " ('duplicata', 0.6358045339584351),\n",
       " ('imagem-tipo', 0.6309173703193665),\n",
       " ('impressora', 0.6299152970314026),\n",
       " ('enfermeira', 0.6262940764427185)]"
      ]
     },
     "execution_count": 14,
     "metadata": {},
     "output_type": "execute_result"
    }
   ],
   "source": [
    "programador = usp_word2vec['programador']\n",
    "\n",
    "analogia(homem, programador, mulher)"
   ]
  },
  {
   "cell_type": "code",
   "execution_count": 15,
   "metadata": {},
   "outputs": [
    {
     "data": {
      "text/plain": [
       "[('programador', 0.6169764995574951),\n",
       " ('conceito', 0.601061224937439),\n",
       " ('agorafóbico', 0.5994553565979004),\n",
       " ('desenvolvedor', 0.595237135887146),\n",
       " ('gerenciador', 0.5938831567764282),\n",
       " ('decodificador', 0.583011269569397),\n",
       " ('exploit', 0.5821406245231628),\n",
       " ('instalador', 0.5817169547080994),\n",
       " ('videojogo', 0.5804249048233032),\n",
       " ('portmanteau', 0.5788525938987732)]"
      ]
     },
     "execution_count": 15,
     "metadata": {},
     "output_type": "execute_result"
    }
   ],
   "source": [
    "programadora = usp_word2vec['programadora']\n",
    "\n",
    "analogia(mulher, programadora, homem)"
   ]
  },
  {
   "cell_type": "code",
   "execution_count": 16,
   "metadata": {},
   "outputs": [
    {
     "data": {
      "text/plain": [
       "[('esposa', 0.692970871925354),\n",
       " ('filha', 0.6821932196617126),\n",
       " ('concubina', 0.6798956394195557),\n",
       " ('governanta', 0.67839115858078),\n",
       " ('sobrinha', 0.6778334379196167),\n",
       " ('madrasta', 0.6712793111801147),\n",
       " ('dama-de-companhia', 0.6649885773658752),\n",
       " ('múmia', 0.6630989909172058),\n",
       " ('bisneta', 0.6615864038467407),\n",
       " ('benção', 0.6589256525039673)]"
      ]
     },
     "execution_count": 16,
     "metadata": {},
     "output_type": "execute_result"
    }
   ],
   "source": [
    "rei = usp_word2vec['rei']\n",
    "\n",
    "analogia(homem, mulher, rei)"
   ]
  },
  {
   "cell_type": "code",
   "execution_count": 17,
   "metadata": {},
   "outputs": [
    {
     "data": {
      "text/plain": [
       "[('homem', 0.6283648610115051),\n",
       " ('rei', 0.5936132073402405),\n",
       " ('moço', 0.57784503698349),\n",
       " ('herói', 0.56794673204422),\n",
       " ('prelado', 0.5664745569229126),\n",
       " ('rapaz', 0.5660328269004822),\n",
       " ('frêmito', 0.5653231143951416),\n",
       " ('panegírico', 0.5649533867835999),\n",
       " ('morgadio', 0.5629957914352417),\n",
       " ('pescador', 0.5626760125160217)]"
      ]
     },
     "execution_count": 17,
     "metadata": {},
     "output_type": "execute_result"
    }
   ],
   "source": [
    "rainha = usp_word2vec['rainha']\n",
    "\n",
    "analogia(mulher, homem, rainha)"
   ]
  },
  {
   "cell_type": "code",
   "execution_count": 18,
   "metadata": {},
   "outputs": [
    {
     "data": {
      "text/plain": [
       "[('cantando', 0.8179231286048889),\n",
       " ('dançando', 0.7392323017120361),\n",
       " ('dançar', 0.6498607397079468),\n",
       " ('tocando', 0.6495398283004761),\n",
       " ('aplaudindo', 0.5950785279273987),\n",
       " ('cantarolando', 0.5816349983215332),\n",
       " ('vibrando', 0.5793366432189941),\n",
       " ('assobiando', 0.5731126070022583),\n",
       " ('pescando', 0.561478316783905),\n",
       " ('compondo', 0.5515736937522888)]"
      ]
     },
     "execution_count": 18,
     "metadata": {},
     "output_type": "execute_result"
    }
   ],
   "source": [
    "cantar = usp_word2vec['cantar']\n",
    "cantando = usp_word2vec['cantando']\n",
    "dancar = usp_word2vec['dançar']\n",
    "\n",
    "analogia(cantar, cantando, dancar)"
   ]
  }
 ],
 "metadata": {
  "kernelspec": {
   "display_name": "Python 3.10.8 ('.venv': venv)",
   "language": "python",
   "name": "python3"
  },
  "language_info": {
   "codemirror_mode": {
    "name": "ipython",
    "version": 3
   },
   "file_extension": ".py",
   "mimetype": "text/x-python",
   "name": "python",
   "nbconvert_exporter": "python",
   "pygments_lexer": "ipython3",
   "version": "3.10.8"
  },
  "orig_nbformat": 4,
  "vscode": {
   "interpreter": {
    "hash": "52d16f3f807dc9be10d1ccc48ec6e4cfe6de97b7768c9f8b6f7c7fd06006b154"
   }
  }
 },
 "nbformat": 4,
 "nbformat_minor": 2
}
