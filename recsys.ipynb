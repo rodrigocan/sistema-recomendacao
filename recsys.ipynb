{
 "cells": [
  {
   "cell_type": "markdown",
   "metadata": {},
   "source": [
    "# Importação das bibliotecas"
   ]
  },
  {
   "cell_type": "code",
   "execution_count": 60,
   "metadata": {},
   "outputs": [
    {
     "name": "stderr",
     "output_type": "stream",
     "text": [
      "[nltk_data] Downloading package stopwords to\n",
      "[nltk_data]     C:\\Users\\TRT05\\AppData\\Roaming\\nltk_data...\n",
      "[nltk_data]   Package stopwords is already up-to-date!\n"
     ]
    }
   ],
   "source": [
    "import pandas as pd\n",
    "import numpy as np\n",
    "import nltk\n",
    "nltk.download('stopwords')\n",
    "from nltk.corpus import stopwords\n",
    "from sklearn.metrics.pairwise import linear_kernel\n",
    "from sklearn.feature_extraction.text import CountVectorizer\n",
    "from sklearn.feature_extraction.text import TfidfVectorizer\n",
    "from nltk.tokenize import RegexpTokenizer\n",
    "import re\n",
    "import string\n",
    "import random\n",
    "from PIL import Image\n",
    "import requests\n",
    "from io import BytesIO\n",
    "import matplotlib.pyplot as plt\n",
    "%matplotlib inline\n",
    "from sklearn.metrics.pairwise import cosine_similarity\n",
    "from gensim.models import Word2Vec\n",
    "from gensim.models.phrases import Phrases, Phraser\n",
    "from matplotlib import pyplot\n",
    "from gensim.models import KeyedVectors"
   ]
  },
  {
   "cell_type": "markdown",
   "metadata": {},
   "source": [
    "# Importação dos dados dos livros"
   ]
  },
  {
   "cell_type": "code",
   "execution_count": 61,
   "metadata": {},
   "outputs": [
    {
     "data": {
      "text/html": [
       "<div>\n",
       "<style scoped>\n",
       "    .dataframe tbody tr th:only-of-type {\n",
       "        vertical-align: middle;\n",
       "    }\n",
       "\n",
       "    .dataframe tbody tr th {\n",
       "        vertical-align: top;\n",
       "    }\n",
       "\n",
       "    .dataframe thead th {\n",
       "        text-align: right;\n",
       "    }\n",
       "</style>\n",
       "<table border=\"1\" class=\"dataframe\">\n",
       "  <thead>\n",
       "    <tr style=\"text-align: right;\">\n",
       "      <th></th>\n",
       "      <th>titulo</th>\n",
       "      <th>autor</th>\n",
       "      <th>descricao</th>\n",
       "    </tr>\n",
       "  </thead>\n",
       "  <tbody>\n",
       "    <tr>\n",
       "      <th>0</th>\n",
       "      <td>Orçamento sem falhas</td>\n",
       "      <td>Nath Finanças</td>\n",
       "      <td>Quando o assunto é dinheiro, não dá para achar...</td>\n",
       "    </tr>\n",
       "    <tr>\n",
       "      <th>1</th>\n",
       "      <td>Minha Sombria Vanessa</td>\n",
       "      <td>Kate Elizabeth Russell</td>\n",
       "      <td>Elogiado por Gillian Flynn e considerado um do...</td>\n",
       "    </tr>\n",
       "    <tr>\n",
       "      <th>2</th>\n",
       "      <td>Recursão</td>\n",
       "      <td>Blake Crouch</td>\n",
       "      <td>E se um dia memórias vívidas de coisas que nun...</td>\n",
       "    </tr>\n",
       "    <tr>\n",
       "      <th>3</th>\n",
       "      <td>M, o Filho do Século</td>\n",
       "      <td>Antonio Scurati</td>\n",
       "      <td>O romance M, o Filho do Século conta em trama ...</td>\n",
       "    </tr>\n",
       "    <tr>\n",
       "      <th>4</th>\n",
       "      <td>Oblivion Song: Entre Dois Mundos</td>\n",
       "      <td>Robert Kirkman</td>\n",
       "      <td>Mestre em traçar universos distópicos permeado...</td>\n",
       "    </tr>\n",
       "    <tr>\n",
       "      <th>...</th>\n",
       "      <td>...</td>\n",
       "      <td>...</td>\n",
       "      <td>...</td>\n",
       "    </tr>\n",
       "    <tr>\n",
       "      <th>11970</th>\n",
       "      <td>Poemas completos de Alberto Caeiro</td>\n",
       "      <td>Fernando Pessoa</td>\n",
       "      <td>Nos Poemas Completos de Alberto Caeiro (1946),...</td>\n",
       "    </tr>\n",
       "    <tr>\n",
       "      <th>11971</th>\n",
       "      <td>Poesia de Álvaro de Campos</td>\n",
       "      <td>Fernando Pessoa</td>\n",
       "      <td>Cerebral e retraído, Fernando Pessoa concebeu ...</td>\n",
       "    </tr>\n",
       "    <tr>\n",
       "      <th>11972</th>\n",
       "      <td>Ben-Hur</td>\n",
       "      <td>Lewis Wallace</td>\n",
       "      <td>O romance épico \"Ben-Hur - Uma História dos Te...</td>\n",
       "    </tr>\n",
       "    <tr>\n",
       "      <th>11973</th>\n",
       "      <td>Folhas de Relva</td>\n",
       "      <td>Walt Whitman</td>\n",
       "      <td>Walt Whitman é considerado pela crítica mundia...</td>\n",
       "    </tr>\n",
       "    <tr>\n",
       "      <th>11974</th>\n",
       "      <td>O sermão da montanha</td>\n",
       "      <td>Huberto Rohden</td>\n",
       "      <td>O Sermão da Montanha é uma das mais belas mens...</td>\n",
       "    </tr>\n",
       "  </tbody>\n",
       "</table>\n",
       "<p>11975 rows × 3 columns</p>\n",
       "</div>"
      ],
      "text/plain": [
       "                                   titulo                   autor  \\\n",
       "0                    Orçamento sem falhas           Nath Finanças   \n",
       "1                   Minha Sombria Vanessa  Kate Elizabeth Russell   \n",
       "2                                Recursão            Blake Crouch   \n",
       "3                    M, o Filho do Século         Antonio Scurati   \n",
       "4        Oblivion Song: Entre Dois Mundos          Robert Kirkman   \n",
       "...                                   ...                     ...   \n",
       "11970  Poemas completos de Alberto Caeiro         Fernando Pessoa   \n",
       "11971          Poesia de Álvaro de Campos         Fernando Pessoa   \n",
       "11972                             Ben-Hur           Lewis Wallace   \n",
       "11973                     Folhas de Relva            Walt Whitman   \n",
       "11974                O sermão da montanha          Huberto Rohden   \n",
       "\n",
       "                                               descricao  \n",
       "0      Quando o assunto é dinheiro, não dá para achar...  \n",
       "1      Elogiado por Gillian Flynn e considerado um do...  \n",
       "2      E se um dia memórias vívidas de coisas que nun...  \n",
       "3      O romance M, o Filho do Século conta em trama ...  \n",
       "4      Mestre em traçar universos distópicos permeado...  \n",
       "...                                                  ...  \n",
       "11970  Nos Poemas Completos de Alberto Caeiro (1946),...  \n",
       "11971  Cerebral e retraído, Fernando Pessoa concebeu ...  \n",
       "11972  O romance épico \"Ben-Hur - Uma História dos Te...  \n",
       "11973  Walt Whitman é considerado pela crítica mundia...  \n",
       "11974  O Sermão da Montanha é uma das mais belas mens...  \n",
       "\n",
       "[11975 rows x 3 columns]"
      ]
     },
     "execution_count": 61,
     "metadata": {},
     "output_type": "execute_result"
    }
   ],
   "source": [
    "df = pd.read_csv(\"livros.csv\")\n",
    "df['descricao'] = df['descricao'].astype(str)\n",
    "df[['titulo', 'autor', 'descricao']]"
   ]
  },
  {
   "cell_type": "markdown",
   "metadata": {},
   "source": [
    "# Pré-processando a descrição"
   ]
  },
  {
   "cell_type": "markdown",
   "metadata": {},
   "source": [
    "## Removendo números"
   ]
  },
  {
   "cell_type": "code",
   "execution_count": 62,
   "metadata": {},
   "outputs": [
    {
     "name": "stderr",
     "output_type": "stream",
     "text": [
      "C:\\Users\\TRT05\\AppData\\Local\\Temp\\ipykernel_13808\\3336066140.py:1: FutureWarning: The default value of regex will change from True to False in a future version.\n",
      "  df['descricao'] = df['descricao'].str.replace('\\d+', '')\n"
     ]
    },
    {
     "data": {
      "text/plain": [
       "0        Quando o assunto é dinheiro, não dá para achar...\n",
       "1        Elogiado por Gillian Flynn e considerado um do...\n",
       "2        E se um dia memórias vívidas de coisas que nun...\n",
       "3        O romance M, o Filho do Século conta em trama ...\n",
       "4        Mestre em traçar universos distópicos permeado...\n",
       "                               ...                        \n",
       "11970    Nos Poemas Completos de Alberto Caeiro (), em ...\n",
       "11971    Cerebral e retraído, Fernando Pessoa concebeu ...\n",
       "11972    O romance épico \"Ben-Hur - Uma História dos Te...\n",
       "11973    Walt Whitman é considerado pela crítica mundia...\n",
       "11974    O Sermão da Montanha é uma das mais belas mens...\n",
       "Name: descricao, Length: 11975, dtype: object"
      ]
     },
     "execution_count": 62,
     "metadata": {},
     "output_type": "execute_result"
    }
   ],
   "source": [
    "df['descricao'] = df['descricao'].str.replace('\\d+', '')\n",
    "df['descricao']"
   ]
  },
  {
   "cell_type": "markdown",
   "metadata": {},
   "source": [
    "## Removendo capitalização"
   ]
  },
  {
   "cell_type": "code",
   "execution_count": 63,
   "metadata": {},
   "outputs": [
    {
     "data": {
      "text/plain": [
       "0        quando o assunto é dinheiro, não dá para achar...\n",
       "1        elogiado por gillian flynn e considerado um do...\n",
       "2        e se um dia memórias vívidas de coisas que nun...\n",
       "3        o romance m, o filho do século conta em trama ...\n",
       "4        mestre em traçar universos distópicos permeado...\n",
       "                               ...                        \n",
       "11970    nos poemas completos de alberto caeiro (), em ...\n",
       "11971    cerebral e retraído, fernando pessoa concebeu ...\n",
       "11972    o romance épico \"ben-hur - uma história dos te...\n",
       "11973    walt whitman é considerado pela crítica mundia...\n",
       "11974    o sermão da montanha é uma das mais belas mens...\n",
       "Name: descricao, Length: 11975, dtype: object"
      ]
     },
     "execution_count": 63,
     "metadata": {},
     "output_type": "execute_result"
    }
   ],
   "source": [
    "df['descricao'] = df['descricao'].str.lower()\n",
    "df['descricao']"
   ]
  },
  {
   "cell_type": "markdown",
   "metadata": {},
   "source": [
    "## Removendo pontuação"
   ]
  },
  {
   "cell_type": "code",
   "execution_count": 64,
   "metadata": {},
   "outputs": [
    {
     "name": "stderr",
     "output_type": "stream",
     "text": [
      "C:\\Users\\TRT05\\AppData\\Local\\Temp\\ipykernel_13808\\2231285731.py:1: FutureWarning: The default value of regex will change from True to False in a future version.\n",
      "  df['descricao'] = df['descricao'].str.replace('[^\\w\\s]', '')\n"
     ]
    },
    {
     "data": {
      "text/plain": [
       "0        quando o assunto é dinheiro não dá para achar ...\n",
       "1        elogiado por gillian flynn e considerado um do...\n",
       "2        e se um dia memórias vívidas de coisas que nun...\n",
       "3        o romance m o filho do século conta em trama e...\n",
       "4        mestre em traçar universos distópicos permeado...\n",
       "                               ...                        \n",
       "11970    nos poemas completos de alberto caeiro  em ver...\n",
       "11971    cerebral e retraído fernando pessoa concebeu o...\n",
       "11972    o romance épico benhur  uma história dos tempo...\n",
       "11973    walt whitman é considerado pela crítica mundia...\n",
       "11974    o sermão da montanha é uma das mais belas mens...\n",
       "Name: descricao, Length: 11975, dtype: object"
      ]
     },
     "execution_count": 64,
     "metadata": {},
     "output_type": "execute_result"
    }
   ],
   "source": [
    "df['descricao'] = df['descricao'].str.replace('[^\\w\\s]', '')\n",
    "df['descricao']"
   ]
  },
  {
   "cell_type": "markdown",
   "metadata": {},
   "source": [
    "## Removendo stopwords"
   ]
  },
  {
   "cell_type": "code",
   "execution_count": 69,
   "metadata": {},
   "outputs": [
    {
     "data": {
      "text/plain": [
       "0        assunto dinheiro dá achar discurso vai funcion...\n",
       "1        elogiado gillian flynn considerado grandes liv...\n",
       "2        dia memórias vívidas coisas nunca aconteceram ...\n",
       "3        romance m filho século conta trama eletrizante...\n",
       "4        mestre traçar universos distópicos permeados r...\n",
       "                               ...                        \n",
       "11970    poemas completos alberto caeiro versos simples...\n",
       "11971    cerebral retraído fernando pessoa concebeu pro...\n",
       "11972    romance épico benhur história tempos cristo pu...\n",
       "11973    walt whitman considerado crítica mundial maior...\n",
       "11974    sermão montanha belas mensagens literatura esp...\n",
       "Name: descricao, Length: 11975, dtype: object"
      ]
     },
     "execution_count": 69,
     "metadata": {},
     "output_type": "execute_result"
    }
   ],
   "source": [
    "stop = stopwords.words('portuguese')\n",
    "\n",
    "df['descricao'] = df['descricao'].apply(lambda x: ' '.join([word for word in x.split() if word not in (stop)]))\n",
    "\n",
    "df['descricao']"
   ]
  },
  {
   "cell_type": "markdown",
   "metadata": {},
   "source": [
    "## Lematização"
   ]
  },
  {
   "cell_type": "code",
   "execution_count": 80,
   "metadata": {},
   "outputs": [
    {
     "name": "stderr",
     "output_type": "stream",
     "text": [
      "2022-11-02 09:27:12 INFO: Checking for updates to resources.json in case models have been updated.  Note: this behavior can be turned off with download_method=None or download_method=DownloadMethod.REUSE_RESOURCES\n",
      "Downloading https://raw.githubusercontent.com/stanfordnlp/stanza-resources/main/resources_1.4.1.json: 193kB [00:00, 9.21MB/s]                    \n",
      "2022-11-02 09:27:13 INFO: Loading these models for language: pt (Portuguese):\n",
      "=======================\n",
      "| Processor | Package |\n",
      "-----------------------\n",
      "| tokenize  | bosque  |\n",
      "| mwt       | bosque  |\n",
      "| pos       | bosque  |\n",
      "| lemma     | bosque  |\n",
      "=======================\n",
      "\n",
      "2022-11-02 09:27:13 INFO: Use device: cpu\n",
      "2022-11-02 09:27:13 INFO: Loading: tokenize\n",
      "2022-11-02 09:27:13 INFO: Loading: mwt\n",
      "2022-11-02 09:27:13 INFO: Loading: pos\n",
      "2022-11-02 09:27:14 INFO: Loading: lemma\n",
      "2022-11-02 09:27:14 INFO: Done loading processors!\n"
     ]
    }
   ],
   "source": [
    "import stanza\n",
    "nlp_stanza = stanza.Pipeline(lang='pt', processors='tokenize,mwt,pos,lemma')"
   ]
  },
  {
   "cell_type": "code",
   "execution_count": 81,
   "metadata": {},
   "outputs": [
    {
     "data": {
      "text/plain": [
       "[\n",
       "  [\n",
       "    {\n",
       "      \"id\": 1,\n",
       "      \"text\": \"O\",\n",
       "      \"lemma\": \"o\",\n",
       "      \"upos\": \"DET\",\n",
       "      \"feats\": \"Definite=Def|Gender=Masc|Number=Sing|PronType=Art\",\n",
       "      \"start_char\": 0,\n",
       "      \"end_char\": 1\n",
       "    },\n",
       "    {\n",
       "      \"id\": 2,\n",
       "      \"text\": \"rato\",\n",
       "      \"lemma\": \"rato\",\n",
       "      \"upos\": \"NOUN\",\n",
       "      \"feats\": \"Gender=Masc|Number=Sing\",\n",
       "      \"start_char\": 2,\n",
       "      \"end_char\": 6\n",
       "    },\n",
       "    {\n",
       "      \"id\": 3,\n",
       "      \"text\": \"roeu\",\n",
       "      \"lemma\": \"roer\",\n",
       "      \"upos\": \"VERB\",\n",
       "      \"feats\": \"Mood=Ind|Number=Sing|Person=3|Tense=Past|VerbForm=Fin\",\n",
       "      \"start_char\": 7,\n",
       "      \"end_char\": 11\n",
       "    },\n",
       "    {\n",
       "      \"id\": 4,\n",
       "      \"text\": \"a\",\n",
       "      \"lemma\": \"o\",\n",
       "      \"upos\": \"DET\",\n",
       "      \"feats\": \"Definite=Def|Gender=Fem|Number=Sing|PronType=Art\",\n",
       "      \"start_char\": 12,\n",
       "      \"end_char\": 13\n",
       "    },\n",
       "    {\n",
       "      \"id\": 5,\n",
       "      \"text\": \"roupa\",\n",
       "      \"lemma\": \"roupa\",\n",
       "      \"upos\": \"NOUN\",\n",
       "      \"feats\": \"Gender=Fem|Number=Sing\",\n",
       "      \"start_char\": 14,\n",
       "      \"end_char\": 19\n",
       "    },\n",
       "    {\n",
       "      \"id\": [\n",
       "        6,\n",
       "        7\n",
       "      ],\n",
       "      \"text\": \"do\",\n",
       "      \"start_char\": 20,\n",
       "      \"end_char\": 22\n",
       "    },\n",
       "    {\n",
       "      \"id\": 6,\n",
       "      \"text\": \"de\",\n",
       "      \"lemma\": \"de\",\n",
       "      \"upos\": \"ADP\"\n",
       "    },\n",
       "    {\n",
       "      \"id\": 7,\n",
       "      \"text\": \"o\",\n",
       "      \"lemma\": \"o\",\n",
       "      \"upos\": \"DET\",\n",
       "      \"feats\": \"Definite=Def|Gender=Masc|Number=Sing|PronType=Art\"\n",
       "    },\n",
       "    {\n",
       "      \"id\": 8,\n",
       "      \"text\": \"rei\",\n",
       "      \"lemma\": \"rei\",\n",
       "      \"upos\": \"NOUN\",\n",
       "      \"feats\": \"Gender=Masc|Number=Sing\",\n",
       "      \"start_char\": 23,\n",
       "      \"end_char\": 26\n",
       "    },\n",
       "    {\n",
       "      \"id\": 9,\n",
       "      \"text\": \"de\",\n",
       "      \"lemma\": \"de\",\n",
       "      \"upos\": \"ADP\",\n",
       "      \"start_char\": 27,\n",
       "      \"end_char\": 29\n",
       "    },\n",
       "    {\n",
       "      \"id\": 10,\n",
       "      \"text\": \"roma\",\n",
       "      \"lemma\": \"roma\",\n",
       "      \"upos\": \"NOUN\",\n",
       "      \"feats\": \"Gender=Fem|Number=Sing\",\n",
       "      \"start_char\": 30,\n",
       "      \"end_char\": 34\n",
       "    },\n",
       "    {\n",
       "      \"id\": 11,\n",
       "      \"text\": \".\",\n",
       "      \"lemma\": \".\",\n",
       "      \"upos\": \"PUNCT\",\n",
       "      \"start_char\": 34,\n",
       "      \"end_char\": 35\n",
       "    }\n",
       "  ]\n",
       "]"
      ]
     },
     "execution_count": 81,
     "metadata": {},
     "output_type": "execute_result"
    }
   ],
   "source": [
    "nlp_stanza(\"O rato roeu a roupa do rei de roma.\")"
   ]
  }
 ],
 "metadata": {
  "kernelspec": {
   "display_name": "Python 3.10.8 ('.venv': venv)",
   "language": "python",
   "name": "python3"
  },
  "language_info": {
   "codemirror_mode": {
    "name": "ipython",
    "version": 3
   },
   "file_extension": ".py",
   "mimetype": "text/x-python",
   "name": "python",
   "nbconvert_exporter": "python",
   "pygments_lexer": "ipython3",
   "version": "3.10.8"
  },
  "orig_nbformat": 4,
  "vscode": {
   "interpreter": {
    "hash": "52d16f3f807dc9be10d1ccc48ec6e4cfe6de97b7768c9f8b6f7c7fd06006b154"
   }
  }
 },
 "nbformat": 4,
 "nbformat_minor": 2
}
